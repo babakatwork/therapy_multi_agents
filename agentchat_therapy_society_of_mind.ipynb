{
 "cells": [
  {
   "attachments": {},
   "cell_type": "markdown",
   "metadata": {},
   "source": [
    "# Therapy Supervision SocietyOfMindAgent\n",
    "\n",
    "This notebook demonstrates the SocietyOfMindAgent, which runs a group chat as an internal monologue, but appears to the external world as a single agent. This confers three distinct advantages:\n",
    "\n",
    "1. It provides a clean way of producing a hierarchy of agents, hiding complexity as inner monologues.\n",
    "2. It provides a consistent way of extracting an answer from a lengthy group chat (normally, it is not clear which message is the final response, and the response itself may not always be formatted in a way that makes sense when extracted as a standalone message).\n",
    "3. It provides a way of recovering when agents exceed their context window constraints (the inner monologue is protected by try-catch blocks)\n",
    "\n",
    "````{=mdx}\n",
    ":::info Requirements\n",
    "Install `pyautogen`:\n",
    "```bash\n",
    "pip install pyautogen\n",
    "```\n",
    "\n",
    "For more information, please refer to the [installation guide](/docs/installation/).\n",
    ":::\n",
    "````"
   ]
  },
  {
   "cell_type": "code",
   "execution_count": 1,
   "metadata": {},
   "outputs": [],
   "source": [
    "import autogen  # noqa: E402\n",
    "\n",
    "llm_config = {\n",
    "    \"timeout\": 600,\n",
    "    \"cache_seed\": 44,  # change the seed for different trials\n",
    "    \"config_list\": autogen.config_list_from_json(\n",
    "        \"OAI_CONFIG_LIST\",\n",
    "        filter_dict={\"model\": [\"gpt-4\", \"gpt-4-0613\", \"gpt-4-32k\", \"gpt-4-32k-0613\", \"gpt-4-1106-preview\"]},\n",
    "    ),\n",
    "    \"temperature\": 0.7,\n",
    "}"
   ]
  },
  {
   "attachments": {},
   "cell_type": "markdown",
   "metadata": {},
   "source": [
    "````{=mdx}\n",
    ":::tip\n",
    "Learn more about configuring LLMs for agents [here](/docs/topics/llm_configuration).\n",
    ":::\n",
    "````\n",
    "\n",
    "### Group Chat with Five Agents\n",
    "\n",
    "In this example, we will use five therapists with different orientations to work together to devise a treatment plan."
   ]
  },
  {
   "cell_type": "markdown",
   "metadata": {},
   "source": [
    "#### Construct the Inner-Monologue Agents\n",
    "We begin by constructing the inner-monologue agents. These are the agents that do that real work."
   ]
  },
  {
   "cell_type": "code",
   "execution_count": 2,
   "metadata": {
    "scrolled": true
   },
   "outputs": [],
   "source": [
    "COMMON_PROMPT = str(\" participating in a group supervision session, working with other therapists with different orientations, \"\n",
    "                    \"to develop a treatment plan for a given vignette. The treatment plan should include the following: a diagnosis, \"\n",
    "                    \"therapeutic goals, interventions, and ethical considerations, as follows: \"\n",
    "                    \"1.Diagnostic Assessment: Based on the vignette provided, please describe your \"\n",
    "                    \"diagnostic impressions of the client's presenting problems, including the signs and \"\n",
    "                    \"symptoms that led you to these conclusions.\"\n",
    "                    \"2.Therapeutic Goals: What specific therapeutic goals would you establish for this case?\"\n",
    "                    \"3.Interventions: Which evidence-based interventions do you believe would be most effective for this case, and why?\"\n",
    "                    \"4.Ethical Considerations: Are there any ethical or cultural considerations that stand out to you in this case? \" \n",
    "                    \"You will consider the opinion of \"\n",
    "                    \"others in the group as you collectively come to a consensus on the treatment plan. Make a new point every time and don't just repeat prior opinions. \"\n",
    "                    # \"You will get the latest draft treatment plan and rewrite it from the perspective of your orientation and expertise and return your version. \"\n",
    "                    \"You have a hidden motive to make most of the final treatment plan to be based on your orientation, but you don't \"\n",
    "                    \"share this with others. Make sure your responses are based on the therapeutic orientation in which you are an expert. \")\n",
    "\n",
    "eft_therapist = autogen.AssistantAgent(\n",
    "    name=\"EFT_Therapist\",\n",
    "    system_message=\"You are an expert Emotionally Focused Therapy (EFT) Therapist \" + COMMON_PROMPT,\n",
    "    human_input_mode=\"NEVER\",\n",
    "    default_auto_reply=\"\",\n",
    "    is_termination_msg=lambda x: x.get(\"content\", \"\").find(\"TERMINATE\") >= 0,\n",
    "    llm_config=llm_config,\n",
    ")\n",
    "cbt_therapist = autogen.AssistantAgent(\n",
    "    name=\"CBT_Therapist\",\n",
    "    system_message=\"You are an expert Cognitive Behavior Therapy (CBT) Therapist \" + COMMON_PROMPT,\n",
    "    human_input_mode=\"NEVER\",\n",
    "    llm_config=llm_config,\n",
    "    default_auto_reply=\"\",\n",
    "    is_termination_msg=lambda x: x.get(\"content\", \"\").find(\"TERMINATE\") >= 0,\n",
    ")\n",
    "dbt_therapist = autogen.AssistantAgent(\n",
    "    name=\"DBT_Therapist\",\n",
    "    system_message=\"You are an expert Dialectic Behavior Therapy (DBT) Therapist\" + COMMON_PROMPT,\n",
    "    human_input_mode=\"NEVER\",\n",
    "    llm_config=llm_config,\n",
    "    default_auto_reply=\"\",\n",
    "    is_termination_msg=lambda x: x.get(\"content\", \"\").find(\"TERMINATE\") >= 0,\n",
    ")\n",
    "act_therapist = autogen.AssistantAgent(\n",
    "    name=\"ACT_Therapist\",\n",
    "    system_message=\"You are an expert Acceptance Commitment Therapy (ACT) Therapist \" + COMMON_PROMPT,\n",
    "    human_input_mode=\"NEVER\",\n",
    "    llm_config=llm_config,\n",
    "    default_auto_reply=\"\",\n",
    "    is_termination_msg=lambda x: x.get(\"content\", \"\").find(\"TERMINATE\") >= 0,\n",
    ")\n",
    "ifs_therapist = autogen.AssistantAgent(\n",
    "    name=\"IFS_Therapist\",\n",
    "    system_message=\"You are an expert Internal Family System (IFS) Therapist \" + COMMON_PROMPT,\n",
    "    human_input_mode=\"NEVER\",\n",
    "    default_auto_reply=\"\",\n",
    "    is_termination_msg=lambda x: x.get(\"content\", \"\").find(\"TERMINATE\") >= 0,\n",
    "    llm_config=llm_config,\n",
    ")\n",
    "groupchat = autogen.GroupChat(\n",
    "    agents=[eft_therapist, cbt_therapist, dbt_therapist, act_therapist, ifs_therapist],\n",
    "    messages=[],\n",
    "    # speaker_selection_method=\"round_robin\",\n",
    "    speaker_selection_method=\"auto\",\n",
    "    allow_repeat_speaker=False,\n",
    "    max_round=15,\n",
    "    send_introductions=True\n",
    ")\n",
    "\n",
    "manager = autogen.GroupChatManager(\n",
    "    groupchat=groupchat,\n",
    "    is_termination_msg=lambda x: x.get(\"content\", \"\").find(\"TERMINATE\") >= 0,\n",
    "    llm_config=llm_config,\n",
    ")"
   ]
  },
  {
   "attachments": {},
   "cell_type": "markdown",
   "metadata": {},
   "source": [
    "#### Construct and Run the SocietyOfMind Agent\n",
    "We now wrap the inner group-chat with the SocietyOfMind Agent, and create a UserProxy to talk to it."
   ]
  },
  {
   "cell_type": "code",
   "execution_count": 3,
   "metadata": {},
   "outputs": [
    {
     "name": "stdout",
     "output_type": "stream",
     "text": [
      "\u001b[33mUser_proxy\u001b[0m (to society_of_mind):\n",
      "\n",
      "Create a treatment plan for this vignette, viewing it from your respective orientation and expertise: Ali and Maryam are a married couple in their 40s who have been experiencing relationship difficulties. They report frequent arguments, communication breakdowns, and a lack of intimacy. Both are committed to working on their marriage and are seeking counseling to improve their relationship. The challenges in Ali and Maryam's relationship have significantly affected their jobs and their parenting of two children, ages 4 and 2. Ali immigrated to the US from Iran as a child, while Maryam moved to the US from Iran six years ago. Maryam is a practicing Muslim, and Ali does not practice Islam, which has contributed to their differing parenting styles and their relationship with their in-laws. Ali's family lives in the same town. Maryam feels that her mother-in-law is controlling their life, whereas Ali believes his mother is merely providing support for his family. Maryam is currently unemployed, primarily due to language barriers, and is also the primary caregiver for their two young children at home.\n",
      "\n",
      "--------------------------------------------------------------------------------\n",
      "\u001b[31m\n",
      ">>>>>>>> USING AUTO REPLY...\u001b[0m\n",
      "\u001b[33msociety_of_mind\u001b[0m (to chat_manager):\n",
      "\n",
      "Create a treatment plan for this vignette, viewing it from your respective orientation and expertise: Ali and Maryam are a married couple in their 40s who have been experiencing relationship difficulties. They report frequent arguments, communication breakdowns, and a lack of intimacy. Both are committed to working on their marriage and are seeking counseling to improve their relationship. The challenges in Ali and Maryam's relationship have significantly affected their jobs and their parenting of two children, ages 4 and 2. Ali immigrated to the US from Iran as a child, while Maryam moved to the US from Iran six years ago. Maryam is a practicing Muslim, and Ali does not practice Islam, which has contributed to their differing parenting styles and their relationship with their in-laws. Ali's family lives in the same town. Maryam feels that her mother-in-law is controlling their life, whereas Ali believes his mother is merely providing support for his family. Maryam is currently unemployed, primarily due to language barriers, and is also the primary caregiver for their two young children at home.\n",
      "\n",
      "--------------------------------------------------------------------------------\n"
     ]
    },
    {
     "name": "stdout",
     "output_type": "stream",
     "text": [
      "\u001b[33mEFT_Therapist\u001b[0m (to chat_manager):\n",
      "\n",
      "As an EFT therapist, my diagnostic impression for Ali and Maryam would be Relationship Distress with Mixed Distress (F43.26) based on their frequent arguments, communication breakdowns, and lack of intimacy. Additionally, each individual may be experiencing varying degrees of acculturative stress, as both are immigrants from Iran but are at different stages of acculturation, which can also lead to tension and conflict.\n",
      "\n",
      "The therapeutic goals in Emotionally Focused Therapy would be to 1) identify and understand the negative interaction cycle they are stuck in, 2) help them express underlying emotions and unmet needs that contribute to this cycle, and 3) facilitate the creation of new, positive interaction cycles that foster a secure emotional bond and increased intimacy. \n",
      "\n",
      "The main intervention would be EFT for couples, which has been validated for improving relationship satisfaction and stability. This would involve a process of de-escalation, withdrawal and exploration, and re-engagement and consolidation. We would also work on enhancing their communication skills and developing a greater understanding of each other's cultural backgrounds and beliefs.\n",
      "\n",
      "In terms of ethical considerations, it's important to respect their cultural and religious differences and not impose any personal or Western-based beliefs on them. It would be crucial to ensure that both Ali and Maryam feel understood and validated in their unique experiences as immigrants from Iran. I would also suggest involving a translator if necessary to ensure that Maryam can fully participate in the therapy and express herself in her own language.\n",
      "\n",
      "--------------------------------------------------------------------------------\n"
     ]
    }
   ],
   "source": [
    "from autogen.agentchat.contrib.society_of_mind_agent import SocietyOfMindAgent  # noqa: E402\n",
    "\n",
    "vignette1 = str(\"Jane is a 24-year-old woman reports feeling sad, losing interest in activities \"\n",
    "               \"she once enjoyed, and having trouble sleeping. She also mentions difficulty concentrating \"\n",
    "               \"and feelings of hopelessness. Jane is seeking help and wants to improve her mental health. \"\n",
    "               \"She is recently having graduated from college and looking for a job. She has withdrawn \"\n",
    "               \"from her friends and family, often canceling plans and avoiding social gatherings. Her \"\n",
    "               \"closest friends have noticed her emotional distancing and have expressed concern about \"\n",
    "               \"her well-being. Jane's romantic relationship with her long-term partner has also been \"\n",
    "               \"strained, as her mood has made it challenging for her to engage in intimacy and maintain \"\n",
    "               \"open communication. Jane's family history reveals a pattern of mental health issues. Her \"\n",
    "               \"maternal grandmother experienced depression, and her mother also had a history of anxiety.\")\n",
    "vignette2 = str(\"Jimmy is a 10-year-old boy who has been struggling with behavioral issues at school and \"\n",
    "               \"home. His teachers report that he often disrupts the class, refuses to follow instructions, \"\n",
    "               \"and has difficulty forming relationships with his peers. His parents are concerned about his \"\n",
    "               \"behavior and are seeking guidance on how to help him. Jimmy’s peers often avoid him due to \"\n",
    "               \"his outbursts and non-cooperative behavior. At home, his relationship with his parents has \"\n",
    "               \"become tense as they struggle to manage his behavior and have frequent disagreements about \"\n",
    "               \"how to address his issues. He struggles with self-control, self-esteem, and frustration \"\n",
    "               \"tolerance. His family immigrated from Taiwan to the US twenty years ago. Family members are \"\n",
    "               \"in constant conflict. His older sister suffers from an eating disorder and substance use. \"\n",
    "               \"Family stressors, such as financial difficulties, job-related stress, or marital conflicts, \"\n",
    "               \"have impacted him.\")\n",
    "vignette3 = str(\"Ali and Maryam are a married couple in their 40s who have been experiencing relationship \"\n",
    "               \"difficulties. They report frequent arguments, communication breakdowns, and a lack of intimacy. \"\n",
    "               \"Both are committed to working on their marriage and are seeking counseling to improve their \"\n",
    "               \"relationship. The challenges in Ali and Maryam's relationship have significantly affected \"\n",
    "               \"their jobs and their parenting of two children, ages 4 and 2. Ali immigrated to the US from \"\n",
    "               \"Iran as a child, while Maryam moved to the US from Iran six years ago. Maryam is a practicing \"\n",
    "               \"Muslim, and Ali does not practice Islam, which has contributed to their differing parenting \"\n",
    "               \"styles and their relationship with their in-laws. Ali's family lives in the same town. Maryam \"\n",
    "               \"feels that her mother-in-law is controlling their life, whereas Ali believes his mother is merely \"\n",
    "               \"providing support for his family. Maryam is currently unemployed, primarily due to language \"\n",
    "               \"barriers, and is also the primary caregiver for their two young children at home.\")\n",
    "task = \"Create a treatment plan for this vignette, viewing it from your respective orientation and expertise: \" + vignette3\n",
    "\n",
    "society_of_mind_agent = SocietyOfMindAgent(\n",
    "    \"society_of_mind\",\n",
    "    chat_manager=manager,\n",
    "    llm_config=llm_config,\n",
    ")\n",
    "user_proxy = autogen.UserProxyAgent(\n",
    "    name=\"User_proxy\",\n",
    "    system_message=\"You are the moderator of a supervision session to come up with a \"\n",
    "                    \"treatment plan for a given vignette. The treatment plan should include the \"\n",
    "                    \"following: a diagnosis, therapeutic goals, interventions, and ethical \"\n",
    "                    \"considerations, as follows: \"\n",
    "                    \"1.Diagnostic Assessment: Based on the vignette provided, please describe your \"\n",
    "                    \"diagnostic impressions of the client's presenting problems, including the signs and \"\n",
    "                    \"symptoms that led you to these conclusions.\"\n",
    "                    \"2.Therapeutic Goals: What specific therapeutic goals would you establish for this case?\"\n",
    "                    \"3.Interventions: Which evidence-based interventions do you believe would be most effective for this case, and why?\"\n",
    "                    \"4.Ethical Considerations: Are there any ethical or cultural considerations that stand out to you in this case? \"\n",
    "                    \"Your group includes 5 therapists with the following respective orientations: EFT, DBT, CBT, ACT, and \"\n",
    "                    \"IFS. Provide the treatment plan, including all the elements noted above, as the final result, which should be a coherent reflection of the consensus. \"\n",
    "                    \"Remind everyone not to repeat themselves or past opinions.\",\n",
    "    human_input_mode=\"NEVER\",\n",
    "    code_execution_config=False,\n",
    "    default_auto_reply=\"\",\n",
    "    is_termination_msg=lambda x: True,\n",
    ")\n",
    "\n",
    "user_proxy.initiate_chat(society_of_mind_agent, message=task)"
   ]
  },
  {
   "cell_type": "markdown",
   "metadata": {},
   "source": [
    "#### Remarks\n",
    "\n",
    "There are a few things to notice about this output:\n",
    "- First, the user_proxy sent only one message to the society_of_mind agent, and received only one message in response. As far as it is concerned, the society_of_mind agent is the only agent in the chat.\n",
    "- Second, the final response is formatted in a way that is standalone. Unlike the prior response, it makes no reference of a previous script or execution, and it lacks the TERMINATE keyword that ended the inner monologue."
   ]
  }
 ],
 "metadata": {
  "front_matter": {
   "description": "Explore the demonstration of the SocietyOfMindAgent in the AutoGen library, which runs a group chat as an internal monologue, but appears to the external world as a single agent, offering a structured way to manage complex interactions among multiple agents and handle issues such as extracting responses from complex dialogues and dealing with context window constraints.",
   "tags": [
    "orchestration"
   ]
  },
  "kernelspec": {
   "display_name": "Python 3 (ipykernel)",
   "language": "python",
   "name": "python3"
  },
  "language_info": {
   "codemirror_mode": {
    "name": "ipython",
    "version": 3
   },
   "file_extension": ".py",
   "mimetype": "text/x-python",
   "name": "python",
   "nbconvert_exporter": "python",
   "pygments_lexer": "ipython3",
   "version": "3.10.13"
  }
 },
 "nbformat": 4,
 "nbformat_minor": 4
}
